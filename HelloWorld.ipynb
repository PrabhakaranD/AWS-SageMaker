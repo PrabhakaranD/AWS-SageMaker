{
 "cells": [
  {
   "cell_type": "code",
   "execution_count": 2,
   "id": "5e69688c",
   "metadata": {},
   "outputs": [],
   "source": [
    "import sagemaker\n",
    "import boto3\n",
    "from sagemaker.amazon.amazon_estimator itrymport get_image_uri\n",
    "from sagemaker.session import s3_input, Session"
   ]
  },
  {
   "cell_type": "code",
   "execution_count": 11,
   "id": "d6db16d7",
   "metadata": {},
   "outputs": [
    {
     "name": "stdout",
     "output_type": "stream",
     "text": [
      "us-east-2\n"
     ]
    }
   ],
   "source": [
    "bucketName = 'get2jawa-2021'\n",
    "myRegion = boto3.session.Session().region_name\n",
    "print(myRegion)"
   ]
  },
  {
   "cell_type": "code",
   "execution_count": 12,
   "id": "ff45ac35",
   "metadata": {},
   "outputs": [
    {
     "name": "stdout",
     "output_type": "stream",
     "text": [
      "S3 bucket created successfully\n"
     ]
    }
   ],
   "source": [
    "s3 = boto3.resource('s3')\n",
    "try:\n",
    "    if myRegion == 'us-east-2':\n",
    "        s3.create_bucket(Bucket=bucketName, CreateBucketConfiguration={'LocationConstraint':'us-east-2'})\n",
    "    print(\"S3 bucket created successfully\")\n",
    "except Exception as ex:\n",
    "    print(\"s3 error : \", ex)"
   ]
  },
  {
   "cell_type": "code",
   "execution_count": 14,
   "id": "98becc7f",
   "metadata": {},
   "outputs": [
    {
     "name": "stdout",
     "output_type": "stream",
     "text": [
      "s3://get2jawa-2021/xgboost-as-builtin-algo/output\n"
     ]
    }
   ],
   "source": [
    "prefix = 'xgboost-as-builtin-algo'\n",
    "output_path = 's3://{}/{}/output'.format(bucketName, prefix)\n",
    "print(output_path)"
   ]
  },
  {
   "cell_type": "markdown",
   "id": "790146a1",
   "metadata": {},
   "source": [
    "## Downloading dataset and storing it in S3"
   ]
  },
  {
   "cell_type": "code",
   "execution_count": 15,
   "id": "014c222f",
   "metadata": {},
   "outputs": [],
   "source": [
    "import pandas as pd\n",
    "import urllib"
   ]
  },
  {
   "cell_type": "code",
   "execution_count": 16,
   "id": "51ec9453",
   "metadata": {},
   "outputs": [
    {
     "name": "stdout",
     "output_type": "stream",
     "text": [
      "success : Downloaded dataset\n"
     ]
    }
   ],
   "source": [
    "try:\n",
    "    urllib.request.urlretrieve(\"https://d1.awsstatic.com/tmt/build-train-deploy-machine-learning-model-sagemaker/bank_clean.27f01fbbdf43271788427f3682996ae29ceca05d.csv\", \"sample.csv\")\n",
    "    print(\"success : Downloaded dataset\")\n",
    "except Exception as e:\n",
    "    print(\"Error occured  : \", e)"
   ]
  },
  {
   "cell_type": "code",
   "execution_count": 17,
   "id": "c4a51383",
   "metadata": {},
   "outputs": [
    {
     "name": "stdout",
     "output_type": "stream",
     "text": [
      "Dataframe loaded\n"
     ]
    }
   ],
   "source": [
    "try:\n",
    "    model_data = pd.read_csv('sample.csv')\n",
    "    print('Dataframe loaded')\n",
    "except Exeption as e:\n",
    "    print('Data load error : ', e)"
   ]
  },
  {
   "cell_type": "code",
   "execution_count": 18,
   "id": "312c1bea",
   "metadata": {},
   "outputs": [
    {
     "name": "stdout",
     "output_type": "stream",
     "text": [
      "(28831, 62) (12357, 62)\n"
     ]
    }
   ],
   "source": [
    "import numpy as np\n",
    "train_data, test_data = np.split(model_data.sample(frac=1, random_state=1729), [int(0.7 * len(model_data))])\n",
    "print(train_data.shape, test_data.shape)"
   ]
  },
  {
   "cell_type": "code",
   "execution_count": 20,
   "id": "edefa66d",
   "metadata": {},
   "outputs": [],
   "source": [
    "import os\n",
    "pd.concat([train_data['y_yes'], train_data.drop(['y_no', 'y_yes'], axis=1)], axis=1).to_csv('train.csv', index=False, header=False)\n",
    "boto3.Session().resource('s3').Bucket(bucketName).Object(os.path.join(prefix, 'train/train.csv')).upload_file('train.csv')\n",
    "s3_input_train = sagemaker.TrainingInput(s3_data='s3://{}/{}/train'.format(bucketName, prefix), content_type='csv')"
   ]
  },
  {
   "cell_type": "code",
   "execution_count": 21,
   "id": "7c74d4aa",
   "metadata": {},
   "outputs": [],
   "source": [
    "pd.concat([test_data['y_yes'], test_data.drop(['y_no', 'y_yes'], axis=1)], axis=1).to_csv('test.csv', index=False, header=False)\n",
    "boto3.Session().resource('s3').Bucket(bucketName).Object(os.path.join(prefix, 'test/test.csv')).upload_file('test.csv')\n",
    "s3_input_test = sagemaker.TrainingInput(s3_data='s3://{}/{}/test'.format(bucketName, prefix), content_type='csv')"
   ]
  },
  {
   "cell_type": "code",
   "execution_count": 27,
   "id": "f44c21d3",
   "metadata": {},
   "outputs": [],
   "source": [
    "container = sagemaker.image_uris.retrieve(framework='xgboost', region=boto3.Session().region_name, version='1.0-1')"
   ]
  },
  {
   "cell_type": "code",
   "execution_count": 28,
   "id": "bf0cf551",
   "metadata": {},
   "outputs": [],
   "source": [
    "hyperparameters = {\n",
    "        \"max_depth\":\"5\",\n",
    "        \"eta\":\"0.2\",\n",
    "        \"gamma\":\"4\",\n",
    "        \"min_child_weight\":\"6\",\n",
    "        \"subsample\":\"0.7\",\n",
    "        \"objective\":\"binary:logistic\",\n",
    "        \"num_round\":50\n",
    "        }"
   ]
  },
  {
   "cell_type": "code",
   "execution_count": 37,
   "id": "9fb5cf78",
   "metadata": {},
   "outputs": [],
   "source": [
    "estimator = sagemaker.estimator.Estimator(image_uri=container, \n",
    "                                          hyperparameters=hyperparameters,\n",
    "                                          role=sagemaker.get_execution_role(),\n",
    "                                          instance_count=1, \n",
    "                                          instance_type='ml.m5.2xlarge', \n",
    "                                          volume_size=5, # 5 GB \n",
    "                                          output_path=output_path,\n",
    "                                          use_spot_instances=True,\n",
    "                                          max_run=300,\n",
    "                                          max_wait=600)"
   ]
  },
  {
   "cell_type": "code",
   "execution_count": 38,
   "id": "d343e268",
   "metadata": {},
   "outputs": [
    {
     "name": "stdout",
     "output_type": "stream",
     "text": [
      "2021-05-25 01:02:24 Starting - Starting the training job...\n",
      "2021-05-25 01:02:47 Starting - Launching requested ML instancesProfilerReport-1621904543: InProgress\n",
      "......\n",
      "2021-05-25 01:03:47 Starting - Preparing the instances for training.........\n",
      "2021-05-25 01:05:22 Downloading - Downloading input data\n",
      "2021-05-25 01:05:22 Training - Training image download completed. Training in progress.\n",
      "2021-05-25 01:05:22 Uploading - Uploading generated training model.\u001b[34mINFO:sagemaker-containers:Imported framework sagemaker_xgboost_container.training\u001b[0m\n",
      "\u001b[34mINFO:sagemaker-containers:Failed to parse hyperparameter objective value binary:logistic to Json.\u001b[0m\n",
      "\u001b[34mReturning the value itself\u001b[0m\n",
      "\u001b[34mINFO:sagemaker-containers:No GPUs detected (normal if no gpus installed)\u001b[0m\n",
      "\u001b[34mINFO:sagemaker_xgboost_container.training:Running XGBoost Sagemaker in algorithm mode\u001b[0m\n",
      "\u001b[34mINFO:root:Determined delimiter of CSV input is ','\u001b[0m\n",
      "\u001b[34mINFO:root:Determined delimiter of CSV input is ','\u001b[0m\n",
      "\u001b[34mINFO:root:Determined delimiter of CSV input is ','\u001b[0m\n",
      "\u001b[34m[01:05:19] 28831x60 matrix with 1729860 entries loaded from /opt/ml/input/data/train?format=csv&label_column=0&delimiter=,\u001b[0m\n",
      "\u001b[34mINFO:root:Determined delimiter of CSV input is ','\u001b[0m\n",
      "\u001b[34m[01:05:19] 12357x60 matrix with 741420 entries loaded from /opt/ml/input/data/validation?format=csv&label_column=0&delimiter=,\u001b[0m\n",
      "\u001b[34mINFO:root:Single node training.\u001b[0m\n",
      "\u001b[34mINFO:root:Train matrix has 28831 rows\u001b[0m\n",
      "\u001b[34mINFO:root:Validation matrix has 12357 rows\u001b[0m\n",
      "\u001b[34m[01:05:19] WARNING: /workspace/src/learner.cc:328: \u001b[0m\n",
      "\u001b[34mParameters: { num_round } might not be used.\n",
      "\n",
      "  This may not be accurate due to some parameters are only used in language bindings but\n",
      "  passed down to XGBoost core.  Or some parameters are not used but slip through this\n",
      "  verification. Please open an issue if you find above cases.\n",
      "\n",
      "\u001b[0m\n",
      "\u001b[34m[0]#011train-error:0.09698#011validation-error:0.10439\u001b[0m\n",
      "\u001b[34m[1]#011train-error:0.09577#011validation-error:0.10132\u001b[0m\n",
      "\u001b[34m[2]#011train-error:0.09563#011validation-error:0.10189\u001b[0m\n",
      "\u001b[34m[3]#011train-error:0.09559#011validation-error:0.10035\u001b[0m\n",
      "\u001b[34m[4]#011train-error:0.09566#011validation-error:0.09938\u001b[0m\n",
      "\u001b[34m[5]#011train-error:0.09604#011validation-error:0.09946\u001b[0m\n",
      "\u001b[34m[6]#011train-error:0.09563#011validation-error:0.09954\u001b[0m\n",
      "\u001b[34m[7]#011train-error:0.09552#011validation-error:0.09954\u001b[0m\n",
      "\u001b[34m[8]#011train-error:0.09517#011validation-error:0.09970\u001b[0m\n",
      "\u001b[34m[9]#011train-error:0.09493#011validation-error:0.09994\u001b[0m\n",
      "\u001b[34m[10]#011train-error:0.09497#011validation-error:0.10027\u001b[0m\n",
      "\u001b[34m[11]#011train-error:0.09483#011validation-error:0.10002\u001b[0m\n",
      "\u001b[34m[12]#011train-error:0.09476#011validation-error:0.09978\u001b[0m\n",
      "\u001b[34m[13]#011train-error:0.09452#011validation-error:0.10035\u001b[0m\n",
      "\u001b[34m[14]#011train-error:0.09431#011validation-error:0.10019\u001b[0m\n",
      "\u001b[34m[15]#011train-error:0.09396#011validation-error:0.10091\u001b[0m\n",
      "\u001b[34m[16]#011train-error:0.09431#011validation-error:0.10019\u001b[0m\n",
      "\u001b[34m[17]#011train-error:0.09403#011validation-error:0.10035\u001b[0m\n",
      "\u001b[34m[18]#011train-error:0.09389#011validation-error:0.10051\u001b[0m\n",
      "\u001b[34m[19]#011train-error:0.09382#011validation-error:0.10051\u001b[0m\n",
      "\u001b[34m[20]#011train-error:0.09406#011validation-error:0.10051\u001b[0m\n",
      "\u001b[34m[21]#011train-error:0.09410#011validation-error:0.10075\u001b[0m\n",
      "\u001b[34m[22]#011train-error:0.09434#011validation-error:0.10051\u001b[0m\n",
      "\u001b[34m[23]#011train-error:0.09413#011validation-error:0.10108\u001b[0m\n",
      "\u001b[34m[24]#011train-error:0.09396#011validation-error:0.10083\u001b[0m\n",
      "\u001b[34m[25]#011train-error:0.09389#011validation-error:0.10100\u001b[0m\n",
      "\u001b[34m[26]#011train-error:0.09368#011validation-error:0.10132\u001b[0m\n",
      "\u001b[34m[27]#011train-error:0.09372#011validation-error:0.10172\u001b[0m\n",
      "\u001b[34m[28]#011train-error:0.09372#011validation-error:0.10116\u001b[0m\n",
      "\u001b[34m[29]#011train-error:0.09375#011validation-error:0.10140\u001b[0m\n",
      "\u001b[34m[30]#011train-error:0.09386#011validation-error:0.10148\u001b[0m\n",
      "\u001b[34m[31]#011train-error:0.09368#011validation-error:0.10140\u001b[0m\n",
      "\u001b[34m[32]#011train-error:0.09341#011validation-error:0.10091\u001b[0m\n",
      "\u001b[34m[33]#011train-error:0.09313#011validation-error:0.10108\u001b[0m\n",
      "\u001b[34m[34]#011train-error:0.09302#011validation-error:0.10132\u001b[0m\n",
      "\u001b[34m[35]#011train-error:0.09302#011validation-error:0.10148\u001b[0m\n",
      "\u001b[34m[36]#011train-error:0.09295#011validation-error:0.10148\u001b[0m\n",
      "\u001b[34m[37]#011train-error:0.09257#011validation-error:0.10124\u001b[0m\n",
      "\u001b[34m[38]#011train-error:0.09226#011validation-error:0.10116\u001b[0m\n",
      "\u001b[34m[39]#011train-error:0.09226#011validation-error:0.10116\u001b[0m\n",
      "\u001b[34m[40]#011train-error:0.09226#011validation-error:0.10124\u001b[0m\n",
      "\u001b[34m[41]#011train-error:0.09237#011validation-error:0.10132\u001b[0m\n",
      "\u001b[34m[42]#011train-error:0.09198#011validation-error:0.10108\u001b[0m\n",
      "\u001b[34m[43]#011train-error:0.09167#011validation-error:0.10124\u001b[0m\n",
      "\u001b[34m[44]#011train-error:0.09101#011validation-error:0.10108\u001b[0m\n",
      "\u001b[34m[45]#011train-error:0.09094#011validation-error:0.10108\u001b[0m\n",
      "\u001b[34m[46]#011train-error:0.09067#011validation-error:0.10091\u001b[0m\n",
      "\u001b[34m[47]#011train-error:0.09032#011validation-error:0.10067\u001b[0m\n",
      "\u001b[34m[48]#011train-error:0.09042#011validation-error:0.10043\u001b[0m\n",
      "\u001b[34m[49]#011train-error:0.09032#011validation-error:0.10059\u001b[0m\n",
      "\n",
      "2021-05-25 01:05:47 Completed - Training job completed\n",
      "Training seconds: 35\n",
      "Billable seconds: 8\n",
      "Managed Spot Training savings: 77.1%\n"
     ]
    }
   ],
   "source": [
    "estimator.fit({'train': s3_input_train,'validation': s3_input_test})"
   ]
  },
  {
   "cell_type": "code",
   "execution_count": 39,
   "id": "eacc151a",
   "metadata": {},
   "outputs": [
    {
     "name": "stdout",
     "output_type": "stream",
     "text": [
      "-------------!"
     ]
    }
   ],
   "source": [
    "xgb_predictor = estimator.deploy(initial_instance_count=1,instance_type='ml.m4.xlarge')"
   ]
  },
  {
   "cell_type": "code",
   "execution_count": 41,
   "id": "3c230dc0",
   "metadata": {},
   "outputs": [
    {
     "name": "stderr",
     "output_type": "stream",
     "text": [
      "The endpoint attribute has been renamed in sagemaker>=2.\n",
      "See: https://sagemaker.readthedocs.io/en/stable/v2.html for details.\n"
     ]
    },
    {
     "data": {
      "text/plain": [
       "[{'ResponseMetadata': {'RequestId': 'XXE3H3DK4TWN008T',\n",
       "   'HostId': 'JygWMoay/ggjSR+Ot3yqQGxdgmSwixvqaPDkPaHtdUCIXd9ZPBQrtBfrlDEVg5IqzQwekGEPbLU=',\n",
       "   'HTTPStatusCode': 200,\n",
       "   'HTTPHeaders': {'x-amz-id-2': 'JygWMoay/ggjSR+Ot3yqQGxdgmSwixvqaPDkPaHtdUCIXd9ZPBQrtBfrlDEVg5IqzQwekGEPbLU=',\n",
       "    'x-amz-request-id': 'XXE3H3DK4TWN008T',\n",
       "    'date': 'Tue, 25 May 2021 05:37:14 GMT',\n",
       "    'content-type': 'application/xml',\n",
       "    'transfer-encoding': 'chunked',\n",
       "    'server': 'AmazonS3',\n",
       "    'connection': 'close'},\n",
       "   'RetryAttempts': 0},\n",
       "  'Deleted': [{'Key': 'xgboost-as-builtin-algo/output/sagemaker-xgboost-2021-05-25-01-02-23-908/output/model.tar.gz'},\n",
       "   {'Key': 'xgboost-as-builtin-algo/output/sagemaker-xgboost-2021-05-25-01-02-23-908/profiler-output/framework/training_job_end.ts'},\n",
       "   {'Key': 'xgboost-as-builtin-algo/output/sagemaker-xgboost-2021-05-25-01-02-23-908/rule-output/ProfilerReport-1621904543/profiler-output/profiler-reports/Dataloader.json'},\n",
       "   {'Key': 'xgboost-as-builtin-algo/output/sagemaker-xgboost-2021-05-25-01-02-23-908/rule-output/ProfilerReport-1621904543/profiler-output/profiler-reports/GPUMemoryIncrease.json'},\n",
       "   {'Key': 'xgboost-as-builtin-algo/output/sagemaker-xgboost-2021-05-25-01-02-23-908/rule-output/ProfilerReport-1621904543/profiler-output/profiler-report.ipynb'},\n",
       "   {'Key': 'xgboost-as-builtin-algo/output/sagemaker-xgboost-2021-05-25-01-02-23-908/rule-output/ProfilerReport-1621904543/profiler-output/profiler-reports/StepOutlier.json'},\n",
       "   {'Key': 'xgboost-as-builtin-algo/output/sagemaker-xgboost-2021-05-25-01-02-23-908/rule-output/ProfilerReport-1621904543/profiler-output/profiler-report.html'},\n",
       "   {'Key': 'xgboost-as-builtin-algo/output/sagemaker-xgboost-2021-05-25-01-02-23-908/profiler-output/system/training_job_end.ts'},\n",
       "   {'Key': 'xgboost-as-builtin-algo/train/train.csv'},\n",
       "   {'Key': 'xgboost-as-builtin-algo/output/sagemaker-xgboost-2021-05-25-01-02-23-908/rule-output/ProfilerReport-1621904543/profiler-output/profiler-reports/LoadBalancing.json'},\n",
       "   {'Key': 'xgboost-as-builtin-algo/output/sagemaker-xgboost-2021-05-25-01-02-23-908/rule-output/ProfilerReport-1621904543/profiler-output/profiler-reports/OverallSystemUsage.json'},\n",
       "   {'Key': 'xgboost-as-builtin-algo/test/test.csv'},\n",
       "   {'Key': 'xgboost-as-builtin-algo/output/sagemaker-xgboost-2021-05-25-01-02-23-908/rule-output/ProfilerReport-1621904543/profiler-output/profiler-reports/LowGPUUtilization.json'},\n",
       "   {'Key': 'xgboost-as-builtin-algo/output/sagemaker-xgboost-2021-05-25-01-02-23-908/profiler-output/system/incremental/2021052501/1621904640.algo-1.json'},\n",
       "   {'Key': 'xgboost-as-builtin-algo/output/sagemaker-xgboost-2021-05-25-01-02-23-908/rule-output/ProfilerReport-1621904543/profiler-output/profiler-reports/IOBottleneck.json'},\n",
       "   {'Key': 'xgboost-as-builtin-algo/output/sagemaker-xgboost-2021-05-25-01-02-23-908/profiler-output/system/incremental/2021052501/1621904700.algo-1.json'},\n",
       "   {'Key': 'xgboost-as-builtin-algo/output/sagemaker-xgboost-2021-05-25-01-02-23-908/rule-output/ProfilerReport-1621904543/profiler-output/profiler-reports/CPUBottleneck.json'},\n",
       "   {'Key': 'xgboost-as-builtin-algo/output/sagemaker-xgboost-2021-05-25-01-02-23-908/rule-output/ProfilerReport-1621904543/profiler-output/profiler-reports/MaxInitializationTime.json'},\n",
       "   {'Key': 'xgboost-as-builtin-algo/output/sagemaker-xgboost-2021-05-25-01-02-23-908/rule-output/ProfilerReport-1621904543/profiler-output/profiler-reports/BatchSize.json'},\n",
       "   {'Key': 'xgboost-as-builtin-algo/output/sagemaker-xgboost-2021-05-25-01-02-23-908/rule-output/ProfilerReport-1621904543/profiler-output/profiler-reports/OverallFrameworkMetrics.json'}]}]"
      ]
     },
     "execution_count": 41,
     "metadata": {},
     "output_type": "execute_result"
    }
   ],
   "source": [
    "sagemaker.Session().delete_endpoint(xgb_predictor.endpoint)\n",
    "bucket_to_delete = boto3.resource('s3').Bucket(bucketName)\n",
    "bucket_to_delete.objects.all().delete()"
   ]
  },
  {
   "cell_type": "code",
   "execution_count": null,
   "id": "81ba57d8",
   "metadata": {},
   "outputs": [],
   "source": []
  }
 ],
 "metadata": {
  "kernelspec": {
   "display_name": "conda_python3",
   "language": "python",
   "name": "conda_python3"
  },
  "language_info": {
   "codemirror_mode": {
    "name": "ipython",
    "version": 3
   },
   "file_extension": ".py",
   "mimetype": "text/x-python",
   "name": "python",
   "nbconvert_exporter": "python",
   "pygments_lexer": "ipython3",
   "version": "3.6.13"
  }
 },
 "nbformat": 4,
 "nbformat_minor": 5
}
